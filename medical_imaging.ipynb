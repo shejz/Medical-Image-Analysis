{
  "nbformat": 4,
  "nbformat_minor": 0,
  "metadata": {
    "colab": {
      "name": "dl_medical_imaging.ipynb",
      "provenance": [],
      "collapsed_sections": []
    },
    "kernelspec": {
      "display_name": "Python 3",
      "language": "python",
      "name": "python3"
    },
    "language_info": {
      "codemirror_mode": {
        "name": "ipython",
        "version": 3
      },
      "file_extension": ".py",
      "mimetype": "text/x-python",
      "name": "python",
      "nbconvert_exporter": "python",
      "pygments_lexer": "ipython3",
      "version": "3.8.5"
    },
    "accelerator": "GPU"
  },
  "cells": [
    {
      "cell_type": "markdown",
      "metadata": {
        "id": "j4RpK9pawQzP"
      },
      "source": [
        "# Medical Image Analysis"
      ]
    },
    {
      "cell_type": "markdown",
      "metadata": {
        "id": "zAckSQgGaGHY"
      },
      "source": [
        "### Install the necessary packages"
      ]
    },
    {
      "cell_type": "code",
      "metadata": {
        "id": "n9FkaOfWwawu",
        "colab": {
          "base_uri": "https://localhost:8080/"
        },
        "outputId": "e5cb3db1-bf0e-412a-f54b-2006251d9296"
      },
      "source": [
        "!pip install tensorflow==2.2.0"
      ],
      "execution_count": 1,
      "outputs": [
        {
          "output_type": "stream",
          "text": [
            "Collecting tensorflow==2.2.0\n",
            "\u001b[?25l  Downloading https://files.pythonhosted.org/packages/4c/1a/0d79814736cfecc825ab8094b39648cc9c46af7af1bae839928acb73b4dd/tensorflow-2.2.0-cp37-cp37m-manylinux2010_x86_64.whl (516.2MB)\n",
            "\u001b[K     |████████████████████████████████| 516.2MB 34kB/s \n",
            "\u001b[?25hCollecting tensorboard<2.3.0,>=2.2.0\n",
            "\u001b[?25l  Downloading https://files.pythonhosted.org/packages/1d/74/0a6fcb206dcc72a6da9a62dd81784bfdbff5fedb099982861dc2219014fb/tensorboard-2.2.2-py3-none-any.whl (3.0MB)\n",
            "\u001b[K     |████████████████████████████████| 3.0MB 45.0MB/s \n",
            "\u001b[?25hCollecting gast==0.3.3\n",
            "  Downloading https://files.pythonhosted.org/packages/d6/84/759f5dd23fec8ba71952d97bcc7e2c9d7d63bdc582421f3cd4be845f0c98/gast-0.3.3-py2.py3-none-any.whl\n",
            "Requirement already satisfied: protobuf>=3.8.0 in /usr/local/lib/python3.7/dist-packages (from tensorflow==2.2.0) (3.12.4)\n",
            "Requirement already satisfied: termcolor>=1.1.0 in /usr/local/lib/python3.7/dist-packages (from tensorflow==2.2.0) (1.1.0)\n",
            "Requirement already satisfied: wheel>=0.26; python_version >= \"3\" in /usr/local/lib/python3.7/dist-packages (from tensorflow==2.2.0) (0.36.2)\n",
            "Requirement already satisfied: scipy==1.4.1; python_version >= \"3\" in /usr/local/lib/python3.7/dist-packages (from tensorflow==2.2.0) (1.4.1)\n",
            "Requirement already satisfied: google-pasta>=0.1.8 in /usr/local/lib/python3.7/dist-packages (from tensorflow==2.2.0) (0.2.0)\n",
            "Collecting tensorflow-estimator<2.3.0,>=2.2.0\n",
            "\u001b[?25l  Downloading https://files.pythonhosted.org/packages/a4/f5/926ae53d6a226ec0fda5208e0e581cffed895ccc89e36ba76a8e60895b78/tensorflow_estimator-2.2.0-py2.py3-none-any.whl (454kB)\n",
            "\u001b[K     |████████████████████████████████| 460kB 56.5MB/s \n",
            "\u001b[?25hRequirement already satisfied: opt-einsum>=2.3.2 in /usr/local/lib/python3.7/dist-packages (from tensorflow==2.2.0) (3.3.0)\n",
            "Collecting h5py<2.11.0,>=2.10.0\n",
            "\u001b[?25l  Downloading https://files.pythonhosted.org/packages/3f/c0/abde58b837e066bca19a3f7332d9d0493521d7dd6b48248451a9e3fe2214/h5py-2.10.0-cp37-cp37m-manylinux1_x86_64.whl (2.9MB)\n",
            "\u001b[K     |████████████████████████████████| 2.9MB 42.4MB/s \n",
            "\u001b[?25hRequirement already satisfied: astunparse==1.6.3 in /usr/local/lib/python3.7/dist-packages (from tensorflow==2.2.0) (1.6.3)\n",
            "Requirement already satisfied: keras-preprocessing>=1.1.0 in /usr/local/lib/python3.7/dist-packages (from tensorflow==2.2.0) (1.1.2)\n",
            "Requirement already satisfied: six>=1.12.0 in /usr/local/lib/python3.7/dist-packages (from tensorflow==2.2.0) (1.15.0)\n",
            "Requirement already satisfied: numpy<2.0,>=1.16.0 in /usr/local/lib/python3.7/dist-packages (from tensorflow==2.2.0) (1.19.5)\n",
            "Requirement already satisfied: grpcio>=1.8.6 in /usr/local/lib/python3.7/dist-packages (from tensorflow==2.2.0) (1.34.1)\n",
            "Requirement already satisfied: wrapt>=1.11.1 in /usr/local/lib/python3.7/dist-packages (from tensorflow==2.2.0) (1.12.1)\n",
            "Requirement already satisfied: absl-py>=0.7.0 in /usr/local/lib/python3.7/dist-packages (from tensorflow==2.2.0) (0.12.0)\n",
            "Requirement already satisfied: requests<3,>=2.21.0 in /usr/local/lib/python3.7/dist-packages (from tensorboard<2.3.0,>=2.2.0->tensorflow==2.2.0) (2.23.0)\n",
            "Requirement already satisfied: tensorboard-plugin-wit>=1.6.0 in /usr/local/lib/python3.7/dist-packages (from tensorboard<2.3.0,>=2.2.0->tensorflow==2.2.0) (1.8.0)\n",
            "Requirement already satisfied: setuptools>=41.0.0 in /usr/local/lib/python3.7/dist-packages (from tensorboard<2.3.0,>=2.2.0->tensorflow==2.2.0) (57.0.0)\n",
            "Requirement already satisfied: werkzeug>=0.11.15 in /usr/local/lib/python3.7/dist-packages (from tensorboard<2.3.0,>=2.2.0->tensorflow==2.2.0) (1.0.1)\n",
            "Requirement already satisfied: markdown>=2.6.8 in /usr/local/lib/python3.7/dist-packages (from tensorboard<2.3.0,>=2.2.0->tensorflow==2.2.0) (3.3.4)\n",
            "Requirement already satisfied: google-auth<2,>=1.6.3 in /usr/local/lib/python3.7/dist-packages (from tensorboard<2.3.0,>=2.2.0->tensorflow==2.2.0) (1.30.0)\n",
            "Requirement already satisfied: google-auth-oauthlib<0.5,>=0.4.1 in /usr/local/lib/python3.7/dist-packages (from tensorboard<2.3.0,>=2.2.0->tensorflow==2.2.0) (0.4.4)\n",
            "Requirement already satisfied: chardet<4,>=3.0.2 in /usr/local/lib/python3.7/dist-packages (from requests<3,>=2.21.0->tensorboard<2.3.0,>=2.2.0->tensorflow==2.2.0) (3.0.4)\n",
            "Requirement already satisfied: idna<3,>=2.5 in /usr/local/lib/python3.7/dist-packages (from requests<3,>=2.21.0->tensorboard<2.3.0,>=2.2.0->tensorflow==2.2.0) (2.10)\n",
            "Requirement already satisfied: certifi>=2017.4.17 in /usr/local/lib/python3.7/dist-packages (from requests<3,>=2.21.0->tensorboard<2.3.0,>=2.2.0->tensorflow==2.2.0) (2020.12.5)\n",
            "Requirement already satisfied: urllib3!=1.25.0,!=1.25.1,<1.26,>=1.21.1 in /usr/local/lib/python3.7/dist-packages (from requests<3,>=2.21.0->tensorboard<2.3.0,>=2.2.0->tensorflow==2.2.0) (1.24.3)\n",
            "Requirement already satisfied: importlib-metadata; python_version < \"3.8\" in /usr/local/lib/python3.7/dist-packages (from markdown>=2.6.8->tensorboard<2.3.0,>=2.2.0->tensorflow==2.2.0) (4.0.1)\n",
            "Requirement already satisfied: rsa<5,>=3.1.4; python_version >= \"3.6\" in /usr/local/lib/python3.7/dist-packages (from google-auth<2,>=1.6.3->tensorboard<2.3.0,>=2.2.0->tensorflow==2.2.0) (4.7.2)\n",
            "Requirement already satisfied: pyasn1-modules>=0.2.1 in /usr/local/lib/python3.7/dist-packages (from google-auth<2,>=1.6.3->tensorboard<2.3.0,>=2.2.0->tensorflow==2.2.0) (0.2.8)\n",
            "Requirement already satisfied: cachetools<5.0,>=2.0.0 in /usr/local/lib/python3.7/dist-packages (from google-auth<2,>=1.6.3->tensorboard<2.3.0,>=2.2.0->tensorflow==2.2.0) (4.2.2)\n",
            "Requirement already satisfied: requests-oauthlib>=0.7.0 in /usr/local/lib/python3.7/dist-packages (from google-auth-oauthlib<0.5,>=0.4.1->tensorboard<2.3.0,>=2.2.0->tensorflow==2.2.0) (1.3.0)\n",
            "Requirement already satisfied: typing-extensions>=3.6.4; python_version < \"3.8\" in /usr/local/lib/python3.7/dist-packages (from importlib-metadata; python_version < \"3.8\"->markdown>=2.6.8->tensorboard<2.3.0,>=2.2.0->tensorflow==2.2.0) (3.7.4.3)\n",
            "Requirement already satisfied: zipp>=0.5 in /usr/local/lib/python3.7/dist-packages (from importlib-metadata; python_version < \"3.8\"->markdown>=2.6.8->tensorboard<2.3.0,>=2.2.0->tensorflow==2.2.0) (3.4.1)\n",
            "Requirement already satisfied: pyasn1>=0.1.3 in /usr/local/lib/python3.7/dist-packages (from rsa<5,>=3.1.4; python_version >= \"3.6\"->google-auth<2,>=1.6.3->tensorboard<2.3.0,>=2.2.0->tensorflow==2.2.0) (0.4.8)\n",
            "Requirement already satisfied: oauthlib>=3.0.0 in /usr/local/lib/python3.7/dist-packages (from requests-oauthlib>=0.7.0->google-auth-oauthlib<0.5,>=0.4.1->tensorboard<2.3.0,>=2.2.0->tensorflow==2.2.0) (3.1.0)\n",
            "Installing collected packages: tensorboard, gast, tensorflow-estimator, h5py, tensorflow\n",
            "  Found existing installation: tensorboard 2.5.0\n",
            "    Uninstalling tensorboard-2.5.0:\n",
            "      Successfully uninstalled tensorboard-2.5.0\n",
            "  Found existing installation: gast 0.4.0\n",
            "    Uninstalling gast-0.4.0:\n",
            "      Successfully uninstalled gast-0.4.0\n",
            "  Found existing installation: tensorflow-estimator 2.5.0\n",
            "    Uninstalling tensorflow-estimator-2.5.0:\n",
            "      Successfully uninstalled tensorflow-estimator-2.5.0\n",
            "  Found existing installation: h5py 3.1.0\n",
            "    Uninstalling h5py-3.1.0:\n",
            "      Successfully uninstalled h5py-3.1.0\n",
            "  Found existing installation: tensorflow 2.5.0\n",
            "    Uninstalling tensorflow-2.5.0:\n",
            "      Successfully uninstalled tensorflow-2.5.0\n",
            "Successfully installed gast-0.3.3 h5py-2.10.0 tensorboard-2.2.2 tensorflow-2.2.0 tensorflow-estimator-2.2.0\n"
          ],
          "name": "stdout"
        }
      ]
    },
    {
      "cell_type": "markdown",
      "metadata": {
        "id": "f6JfGbpJuICY"
      },
      "source": [
        "### Downloading the dataset"
      ]
    },
    {
      "cell_type": "code",
      "metadata": {
        "id": "VEe-po91uHfr",
        "colab": {
          "base_uri": "https://localhost:8080/"
        },
        "outputId": "bddbaa8f-4e01-4cb8-ab4d-84a083002b9e"
      },
      "source": [
        "!mkdir malaria\n",
        "%cd malaria\n",
        "!wget https://ceb.nlm.nih.gov/proj/malaria/cell_images.zip\n",
        "!unzip -qq cell_images.zip\n",
        "%cd .."
      ],
      "execution_count": 3,
      "outputs": [
        {
          "output_type": "stream",
          "text": [
            "/content/dl-medical-imaging/malaria\n",
            "--2021-06-07 18:24:53--  https://ceb.nlm.nih.gov/proj/malaria/cell_images.zip\n",
            "Resolving ceb.nlm.nih.gov (ceb.nlm.nih.gov)... 130.14.52.15, 2607:f220:41e:7052::15\n",
            "Connecting to ceb.nlm.nih.gov (ceb.nlm.nih.gov)|130.14.52.15|:443... connected.\n",
            "HTTP request sent, awaiting response... 200 OK\n",
            "Length: 353452851 (337M) [application/zip]\n",
            "Saving to: ‘cell_images.zip’\n",
            "\n",
            "cell_images.zip     100%[===================>] 337.08M   109MB/s    in 3.1s    \n",
            "\n",
            "2021-06-07 18:24:56 (109 MB/s) - ‘cell_images.zip’ saved [353452851/353452851]\n",
            "\n",
            "/content/dl-medical-imaging\n"
          ],
          "name": "stdout"
        }
      ]
    },
    {
      "cell_type": "markdown",
      "metadata": {
        "id": "wcrOk6pURp50"
      },
      "source": [
        "### Import Packages"
      ]
    },
    {
      "cell_type": "code",
      "metadata": {
        "id": "VJaCNlDDRz6d"
      },
      "source": [
        "# import the necessary packages\n",
        "from tensorflow.keras.preprocessing.image import ImageDataGenerator\n",
        "from tensorflow.keras.callbacks import LearningRateScheduler\n",
        "from tensorflow.keras.optimizers import SGD\n",
        "from pyimagesearch.resnet import ResNet\n",
        "from sklearn.metrics import classification_report\n",
        "from imutils import paths\n",
        "import matplotlib.pyplot as plt\n",
        "import numpy as np\n",
        "import argparse\n",
        "import random\n",
        "import shutil\n",
        "import os"
      ],
      "execution_count": 4,
      "outputs": []
    },
    {
      "cell_type": "markdown",
      "metadata": {
        "id": "uWHT5yn1uVhZ"
      },
      "source": [
        "### Our configuration file"
      ]
    },
    {
      "cell_type": "code",
      "metadata": {
        "id": "9ioe9iX-uXeu"
      },
      "source": [
        "class Config:\n",
        "    # initialize the path to the *original* input directory of images\n",
        "    ORIG_INPUT_DATASET = \"malaria/cell_images\"\n",
        "\n",
        "    # initialize the base path to the *new* directory that will contain\n",
        "    # our images after computing the training and testing split\n",
        "    BASE_PATH = \"malaria\"\n",
        "\n",
        "    # derive the training, validation, and testing directories\n",
        "    TRAIN_PATH = os.path.sep.join([BASE_PATH, \"training\"])\n",
        "    VAL_PATH = os.path.sep.join([BASE_PATH, \"validation\"])\n",
        "    TEST_PATH = os.path.sep.join([BASE_PATH, \"testing\"])\n",
        "\n",
        "    # define the amount of data that will be used training\n",
        "    TRAIN_SPLIT = 0.8\n",
        "\n",
        "    # the amount of validation data will be a percentage of the\n",
        "    # *training* data\n",
        "    VAL_SPLIT = 0.1\n",
        "\n",
        "# instantiate a config object\n",
        "config = Config()"
      ],
      "execution_count": 5,
      "outputs": []
    },
    {
      "cell_type": "markdown",
      "metadata": {
        "id": "Jppw5-Bd56H-"
      },
      "source": [
        "### Building our deep learning + medical image dataset"
      ]
    },
    {
      "cell_type": "code",
      "metadata": {
        "id": "rjc-dYSdu4aF"
      },
      "source": [
        "# grab the paths to all input images in the original input directory\n",
        "# and shuffle them\n",
        "imagePaths = list(paths.list_images(config.ORIG_INPUT_DATASET))\n",
        "random.seed(42)\n",
        "random.shuffle(imagePaths)"
      ],
      "execution_count": 6,
      "outputs": []
    },
    {
      "cell_type": "code",
      "metadata": {
        "id": "HqQkKLdiu6gr"
      },
      "source": [
        "# compute the training and testing split\n",
        "i = int(len(imagePaths) * config.TRAIN_SPLIT)\n",
        "trainPaths = imagePaths[:i]\n",
        "testPaths = imagePaths[i:]\n",
        "\n",
        "# we'll be using part of the training data for validation\n",
        "i = int(len(trainPaths) * config.VAL_SPLIT)\n",
        "valPaths = trainPaths[:i]\n",
        "trainPaths = trainPaths[i:]"
      ],
      "execution_count": 7,
      "outputs": []
    },
    {
      "cell_type": "code",
      "metadata": {
        "id": "PZtkMPdsu8eV"
      },
      "source": [
        "# define the datasets that we'll be building\n",
        "datasets = [\n",
        "\t(\"training\", trainPaths, config.TRAIN_PATH),\n",
        "\t(\"validation\", valPaths, config.VAL_PATH),\n",
        "\t(\"testing\", testPaths, config.TEST_PATH)\n",
        "]"
      ],
      "execution_count": 8,
      "outputs": []
    },
    {
      "cell_type": "code",
      "metadata": {
        "id": "9EMjx6hMu9zw",
        "colab": {
          "base_uri": "https://localhost:8080/"
        },
        "outputId": "cc0661aa-54c8-42d2-d10c-f62ddf2184dd"
      },
      "source": [
        "# loop over the datasets\n",
        "for (dType, imagePaths, baseOutput) in datasets:\n",
        "\t# show which data split we are creating\n",
        "\tprint(\"[INFO] building '{}' split\".format(dType))\n",
        "\n",
        "\t# if the output base output directory does not exist, create it\n",
        "\tif not os.path.exists(baseOutput):\n",
        "\t\tprint(\"[INFO] 'creating {}' directory\".format(baseOutput))\n",
        "\t\tos.makedirs(baseOutput)\n",
        "\n",
        "\t# loop over the input image paths\n",
        "\tfor inputPath in imagePaths:\n",
        "\t\t# extract the filename of the input image along with its\n",
        "\t\t# corresponding class label\n",
        "\t\tfilename = inputPath.split(os.path.sep)[-1]\n",
        "\t\tlabel = inputPath.split(os.path.sep)[-2]\n",
        "\n",
        "\t\t# build the path to the label directory\n",
        "\t\tlabelPath = os.path.sep.join([baseOutput, label])\n",
        "\n",
        "\t\t# if the label output directory does not exist, create it\n",
        "\t\tif not os.path.exists(labelPath):\n",
        "\t\t\tprint(\"[INFO] 'creating {}' directory\".format(labelPath))\n",
        "\t\t\tos.makedirs(labelPath)\n",
        "\n",
        "\t\t# construct the path to the destination image and then copy\n",
        "\t\t# the image itself\n",
        "\t\tp = os.path.sep.join([labelPath, filename])\n",
        "\t\tshutil.copy2(inputPath, p)"
      ],
      "execution_count": 9,
      "outputs": [
        {
          "output_type": "stream",
          "text": [
            "[INFO] building 'training' split\n",
            "[INFO] 'creating malaria/training' directory\n",
            "[INFO] 'creating malaria/training/Uninfected' directory\n",
            "[INFO] 'creating malaria/training/Parasitized' directory\n",
            "[INFO] building 'validation' split\n",
            "[INFO] 'creating malaria/validation' directory\n",
            "[INFO] 'creating malaria/validation/Uninfected' directory\n",
            "[INFO] 'creating malaria/validation/Parasitized' directory\n",
            "[INFO] building 'testing' split\n",
            "[INFO] 'creating malaria/testing' directory\n",
            "[INFO] 'creating malaria/testing/Uninfected' directory\n",
            "[INFO] 'creating malaria/testing/Parasitized' directory\n"
          ],
          "name": "stdout"
        }
      ]
    },
    {
      "cell_type": "markdown",
      "metadata": {
        "id": "AW-Rd5HRvGed"
      },
      "source": [
        "### Training a deep learning model for medical image analysis"
      ]
    },
    {
      "cell_type": "code",
      "metadata": {
        "id": "55vkp7yBvEJQ"
      },
      "source": [
        "# since we are using Jupyter Notebooks we can replace our argument\n",
        "# parsing code with *hard coded* arguments and values\n",
        "args = {\n",
        "    \"plot\": \"plot.png\"\n",
        "}"
      ],
      "execution_count": 10,
      "outputs": []
    },
    {
      "cell_type": "code",
      "metadata": {
        "id": "benlhejqvcWR"
      },
      "source": [
        "# define the total number of epochs to train for along with the\n",
        "# initial learning rate and batch size\n",
        "NUM_EPOCHS = 50\n",
        "INIT_LR = 1e-1\n",
        "BS = 32\n",
        "\n",
        "def poly_decay(epoch):\n",
        "\t# initialize the maximum number of epochs, base learning rate,\n",
        "\t# and power of the polynomial\n",
        "\tmaxEpochs = NUM_EPOCHS\n",
        "\tbaseLR = INIT_LR\n",
        "\tpower = 1.0\n",
        "\n",
        "\t# compute the new learning rate based on polynomial decay\n",
        "\talpha = baseLR * (1 - (epoch / float(maxEpochs))) ** power\n",
        "\n",
        "\t# return the new learning rate\n",
        "\treturn alpha"
      ],
      "execution_count": 11,
      "outputs": []
    },
    {
      "cell_type": "code",
      "metadata": {
        "id": "5FyjUDvOvgFZ"
      },
      "source": [
        "# determine the total number of image paths in training, validation,\n",
        "# and testing directories\n",
        "totalTrain = len(list(paths.list_images(config.TRAIN_PATH)))\n",
        "totalVal = len(list(paths.list_images(config.VAL_PATH)))\n",
        "totalTest = len(list(paths.list_images(config.TEST_PATH)))"
      ],
      "execution_count": 12,
      "outputs": []
    },
    {
      "cell_type": "code",
      "metadata": {
        "id": "TMqvrejRvgiM"
      },
      "source": [
        "# initialize the training training data augmentation object\n",
        "trainAug = ImageDataGenerator(\n",
        "\trescale=1 / 255.0,\n",
        "\trotation_range=20,\n",
        "\tzoom_range=0.05,\n",
        "\twidth_shift_range=0.05,\n",
        "\theight_shift_range=0.05,\n",
        "\tshear_range=0.05,\n",
        "\thorizontal_flip=True,\n",
        "\tfill_mode=\"nearest\")\n",
        "\n",
        "# initialize the validation (and testing) data augmentation object\n",
        "valAug = ImageDataGenerator(rescale=1 / 255.0)"
      ],
      "execution_count": 13,
      "outputs": []
    },
    {
      "cell_type": "code",
      "metadata": {
        "id": "jB70n52lvkEE",
        "colab": {
          "base_uri": "https://localhost:8080/"
        },
        "outputId": "c7753655-9d10-4edb-bc83-3dffd62e183f"
      },
      "source": [
        "# initialize the training generator\n",
        "trainGen = trainAug.flow_from_directory(\n",
        "\tconfig.TRAIN_PATH,\n",
        "\tclass_mode=\"categorical\",\n",
        "\ttarget_size=(64, 64),\n",
        "\tcolor_mode=\"rgb\",\n",
        "\tshuffle=True,\n",
        "\tbatch_size=BS)\n",
        "\n",
        "# initialize the validation generator\n",
        "valGen = valAug.flow_from_directory(\n",
        "\tconfig.VAL_PATH,\n",
        "\tclass_mode=\"categorical\",\n",
        "\ttarget_size=(64, 64),\n",
        "\tcolor_mode=\"rgb\",\n",
        "\tshuffle=False,\n",
        "\tbatch_size=BS)\n",
        "\n",
        "# initialize the testing generator\n",
        "testGen = valAug.flow_from_directory(\n",
        "\tconfig.TEST_PATH,\n",
        "\tclass_mode=\"categorical\",\n",
        "\ttarget_size=(64, 64),\n",
        "\tcolor_mode=\"rgb\",\n",
        "\tshuffle=False,\n",
        "\tbatch_size=BS)"
      ],
      "execution_count": 14,
      "outputs": [
        {
          "output_type": "stream",
          "text": [
            "Found 19842 images belonging to 2 classes.\n",
            "Found 2204 images belonging to 2 classes.\n",
            "Found 5512 images belonging to 2 classes.\n"
          ],
          "name": "stdout"
        }
      ]
    },
    {
      "cell_type": "code",
      "metadata": {
        "id": "58NO2UbQvm3B"
      },
      "source": [
        "# initialize our ResNet model and compile it\n",
        "model = ResNet.build(64, 64, 3, 2, (3, 4, 6),\n",
        "\t(64, 128, 256, 512), reg=0.0005)\n",
        "opt = SGD(lr=INIT_LR, momentum=0.9)\n",
        "model.compile(loss=\"binary_crossentropy\", optimizer=opt,\n",
        "\tmetrics=[\"accuracy\"])"
      ],
      "execution_count": 15,
      "outputs": []
    },
    {
      "cell_type": "code",
      "metadata": {
        "id": "5hPr02wuvnWt",
        "colab": {
          "base_uri": "https://localhost:8080/"
        },
        "outputId": "7f3be3ce-3a7b-453d-f216-0ebda2b63a87"
      },
      "source": [
        "# define our set of callbacks and fit the model\n",
        "callbacks = [LearningRateScheduler(poly_decay)]\n",
        "H = model.fit(\n",
        "\tx=trainGen,\n",
        "\tsteps_per_epoch=totalTrain // BS,\n",
        "\tvalidation_data=valGen,\n",
        "\tvalidation_steps=totalVal // BS,\n",
        "\tepochs=NUM_EPOCHS,\n",
        "\tcallbacks=callbacks)"
      ],
      "execution_count": 16,
      "outputs": [
        {
          "output_type": "stream",
          "text": [
            "Epoch 1/50\n",
            "620/620 [==============================] - 49s 79ms/step - loss: 1.1085 - accuracy: 0.7166 - val_loss: 0.7826 - val_accuracy: 0.8810 - lr: 0.1000\n",
            "Epoch 2/50\n",
            "620/620 [==============================] - 48s 77ms/step - loss: 0.5937 - accuracy: 0.9503 - val_loss: 0.5334 - val_accuracy: 0.9517 - lr: 0.0980\n",
            "Epoch 3/50\n",
            "620/620 [==============================] - 48s 77ms/step - loss: 0.5443 - accuracy: 0.9431 - val_loss: 0.4708 - val_accuracy: 0.9545 - lr: 0.0960\n",
            "Epoch 4/50\n",
            "620/620 [==============================] - 48s 77ms/step - loss: 0.4290 - accuracy: 0.9524 - val_loss: 0.3930 - val_accuracy: 0.9545 - lr: 0.0940\n",
            "Epoch 5/50\n",
            "620/620 [==============================] - 48s 77ms/step - loss: 0.3630 - accuracy: 0.9539 - val_loss: 0.3449 - val_accuracy: 0.9545 - lr: 0.0920\n",
            "Epoch 6/50\n",
            "620/620 [==============================] - 48s 77ms/step - loss: 0.3164 - accuracy: 0.9565 - val_loss: 0.3300 - val_accuracy: 0.9527 - lr: 0.0900\n",
            "Epoch 7/50\n",
            "620/620 [==============================] - 47s 76ms/step - loss: 0.2892 - accuracy: 0.9545 - val_loss: 0.2868 - val_accuracy: 0.9559 - lr: 0.0880\n",
            "Epoch 8/50\n",
            "620/620 [==============================] - 47s 76ms/step - loss: 0.4018 - accuracy: 0.9481 - val_loss: 0.3253 - val_accuracy: 0.9573 - lr: 0.0860\n",
            "Epoch 9/50\n",
            "620/620 [==============================] - 47s 76ms/step - loss: 0.3124 - accuracy: 0.9497 - val_loss: 0.2730 - val_accuracy: 0.9573 - lr: 0.0840\n",
            "Epoch 10/50\n",
            "620/620 [==============================] - 47s 76ms/step - loss: 0.2501 - accuracy: 0.9564 - val_loss: 0.2558 - val_accuracy: 0.9573 - lr: 0.0820\n",
            "Epoch 11/50\n",
            "620/620 [==============================] - 47s 77ms/step - loss: 0.2886 - accuracy: 0.9477 - val_loss: 0.4256 - val_accuracy: 0.9499 - lr: 0.0800\n",
            "Epoch 12/50\n",
            "620/620 [==============================] - 47s 76ms/step - loss: 0.2854 - accuracy: 0.9558 - val_loss: 0.2537 - val_accuracy: 0.9582 - lr: 0.0780\n",
            "Epoch 13/50\n",
            "620/620 [==============================] - 47s 76ms/step - loss: 0.2255 - accuracy: 0.9578 - val_loss: 0.2142 - val_accuracy: 0.9586 - lr: 0.0760\n",
            "Epoch 14/50\n",
            "620/620 [==============================] - 47s 76ms/step - loss: 0.1986 - accuracy: 0.9582 - val_loss: 0.1938 - val_accuracy: 0.9623 - lr: 0.0740\n",
            "Epoch 15/50\n",
            "620/620 [==============================] - 47s 76ms/step - loss: 0.2204 - accuracy: 0.9509 - val_loss: 0.2347 - val_accuracy: 0.9490 - lr: 0.0720\n",
            "Epoch 16/50\n",
            "620/620 [==============================] - 48s 77ms/step - loss: 0.2152 - accuracy: 0.9542 - val_loss: 0.2015 - val_accuracy: 0.9586 - lr: 0.0700\n",
            "Epoch 17/50\n",
            "620/620 [==============================] - 48s 77ms/step - loss: 0.1921 - accuracy: 0.9576 - val_loss: 0.2073 - val_accuracy: 0.9563 - lr: 0.0680\n",
            "Epoch 18/50\n",
            "620/620 [==============================] - 48s 77ms/step - loss: 0.2013 - accuracy: 0.9547 - val_loss: 0.2622 - val_accuracy: 0.9573 - lr: 0.0660\n",
            "Epoch 19/50\n",
            "620/620 [==============================] - 48s 77ms/step - loss: 0.2277 - accuracy: 0.9561 - val_loss: 0.2135 - val_accuracy: 0.9582 - lr: 0.0640\n",
            "Epoch 20/50\n",
            "620/620 [==============================] - 49s 78ms/step - loss: 0.1932 - accuracy: 0.9585 - val_loss: 0.1890 - val_accuracy: 0.9550 - lr: 0.0620\n",
            "Epoch 21/50\n",
            "620/620 [==============================] - 48s 77ms/step - loss: 0.1837 - accuracy: 0.9578 - val_loss: 0.1841 - val_accuracy: 0.9582 - lr: 0.0600\n",
            "Epoch 22/50\n",
            "620/620 [==============================] - 47s 76ms/step - loss: 0.1714 - accuracy: 0.9586 - val_loss: 0.1884 - val_accuracy: 0.9545 - lr: 0.0580\n",
            "Epoch 23/50\n",
            "620/620 [==============================] - 48s 77ms/step - loss: 0.1615 - accuracy: 0.9609 - val_loss: 0.2067 - val_accuracy: 0.9439 - lr: 0.0560\n",
            "Epoch 24/50\n",
            "620/620 [==============================] - 47s 76ms/step - loss: 0.1576 - accuracy: 0.9605 - val_loss: 0.1627 - val_accuracy: 0.9586 - lr: 0.0540\n",
            "Epoch 25/50\n",
            "620/620 [==============================] - 47s 77ms/step - loss: 0.1519 - accuracy: 0.9631 - val_loss: 0.1569 - val_accuracy: 0.9605 - lr: 0.0520\n",
            "Epoch 26/50\n",
            "620/620 [==============================] - 48s 77ms/step - loss: 0.1623 - accuracy: 0.9595 - val_loss: 0.2871 - val_accuracy: 0.9494 - lr: 0.0500\n",
            "Epoch 27/50\n",
            "620/620 [==============================] - 48s 77ms/step - loss: 0.2301 - accuracy: 0.9586 - val_loss: 0.2197 - val_accuracy: 0.9614 - lr: 0.0480\n",
            "Epoch 28/50\n",
            "620/620 [==============================] - 47s 76ms/step - loss: 0.1932 - accuracy: 0.9604 - val_loss: 0.1978 - val_accuracy: 0.9563 - lr: 0.0460\n",
            "Epoch 29/50\n",
            "620/620 [==============================] - 47s 76ms/step - loss: 0.1803 - accuracy: 0.9577 - val_loss: 0.1759 - val_accuracy: 0.9586 - lr: 0.0440\n",
            "Epoch 30/50\n",
            "620/620 [==============================] - 48s 77ms/step - loss: 0.1700 - accuracy: 0.9605 - val_loss: 0.1712 - val_accuracy: 0.9619 - lr: 0.0420\n",
            "Epoch 31/50\n",
            "620/620 [==============================] - 48s 77ms/step - loss: 0.1577 - accuracy: 0.9611 - val_loss: 0.1655 - val_accuracy: 0.9586 - lr: 0.0400\n",
            "Epoch 32/50\n",
            "620/620 [==============================] - 47s 76ms/step - loss: 0.1610 - accuracy: 0.9576 - val_loss: 0.1770 - val_accuracy: 0.9559 - lr: 0.0380\n",
            "Epoch 33/50\n",
            "620/620 [==============================] - 48s 78ms/step - loss: 0.1593 - accuracy: 0.9616 - val_loss: 0.1627 - val_accuracy: 0.9582 - lr: 0.0360\n",
            "Epoch 34/50\n",
            "620/620 [==============================] - 47s 76ms/step - loss: 0.1621 - accuracy: 0.9592 - val_loss: 0.1602 - val_accuracy: 0.9614 - lr: 0.0340\n",
            "Epoch 35/50\n",
            "620/620 [==============================] - 48s 77ms/step - loss: 0.1491 - accuracy: 0.9619 - val_loss: 0.1575 - val_accuracy: 0.9619 - lr: 0.0320\n",
            "Epoch 36/50\n",
            "620/620 [==============================] - 48s 77ms/step - loss: 0.1432 - accuracy: 0.9639 - val_loss: 0.1516 - val_accuracy: 0.9596 - lr: 0.0300\n",
            "Epoch 37/50\n",
            "620/620 [==============================] - 48s 77ms/step - loss: 0.1365 - accuracy: 0.9647 - val_loss: 0.1483 - val_accuracy: 0.9591 - lr: 0.0280\n",
            "Epoch 38/50\n",
            "620/620 [==============================] - 48s 77ms/step - loss: 0.1497 - accuracy: 0.9611 - val_loss: 0.1516 - val_accuracy: 0.9605 - lr: 0.0260\n",
            "Epoch 39/50\n",
            "620/620 [==============================] - 48s 77ms/step - loss: 0.1459 - accuracy: 0.9616 - val_loss: 0.1483 - val_accuracy: 0.9619 - lr: 0.0240\n",
            "Epoch 40/50\n",
            "620/620 [==============================] - 48s 77ms/step - loss: 0.1357 - accuracy: 0.9656 - val_loss: 0.1512 - val_accuracy: 0.9600 - lr: 0.0220\n",
            "Epoch 41/50\n",
            "620/620 [==============================] - 48s 77ms/step - loss: 0.1367 - accuracy: 0.9644 - val_loss: 0.1433 - val_accuracy: 0.9655 - lr: 0.0200\n",
            "Epoch 42/50\n",
            "620/620 [==============================] - 48s 77ms/step - loss: 0.1272 - accuracy: 0.9666 - val_loss: 0.1389 - val_accuracy: 0.9628 - lr: 0.0180\n",
            "Epoch 43/50\n",
            "620/620 [==============================] - 48s 78ms/step - loss: 0.1267 - accuracy: 0.9664 - val_loss: 0.1377 - val_accuracy: 0.9605 - lr: 0.0160\n",
            "Epoch 44/50\n",
            "620/620 [==============================] - 48s 77ms/step - loss: 0.1295 - accuracy: 0.9659 - val_loss: 0.1416 - val_accuracy: 0.9614 - lr: 0.0140\n",
            "Epoch 45/50\n",
            "620/620 [==============================] - 48s 77ms/step - loss: 0.1232 - accuracy: 0.9683 - val_loss: 0.1357 - val_accuracy: 0.9632 - lr: 0.0120\n",
            "Epoch 46/50\n",
            "620/620 [==============================] - 48s 77ms/step - loss: 0.1248 - accuracy: 0.9662 - val_loss: 0.1473 - val_accuracy: 0.9614 - lr: 0.0100\n",
            "Epoch 47/50\n",
            "620/620 [==============================] - 48s 78ms/step - loss: 0.1204 - accuracy: 0.9675 - val_loss: 0.1397 - val_accuracy: 0.9651 - lr: 0.0080\n",
            "Epoch 48/50\n",
            "620/620 [==============================] - 48s 77ms/step - loss: 0.1187 - accuracy: 0.9688 - val_loss: 0.1410 - val_accuracy: 0.9642 - lr: 0.0060\n",
            "Epoch 49/50\n",
            "620/620 [==============================] - 48s 77ms/step - loss: 0.1125 - accuracy: 0.9704 - val_loss: 0.1361 - val_accuracy: 0.9646 - lr: 0.0040\n",
            "Epoch 50/50\n",
            "620/620 [==============================] - 48s 78ms/step - loss: 0.1096 - accuracy: 0.9718 - val_loss: 0.1348 - val_accuracy: 0.9623 - lr: 0.0020\n"
          ],
          "name": "stdout"
        }
      ]
    },
    {
      "cell_type": "code",
      "metadata": {
        "id": "AxithO5EvpcO",
        "colab": {
          "base_uri": "https://localhost:8080/"
        },
        "outputId": "3e39fb6e-76cd-4235-aec4-05b0c87c4ec7"
      },
      "source": [
        "# reset the testing generator and then use our trained model to\n",
        "# make predictions on the data\n",
        "print(\"[INFO] evaluating network...\")\n",
        "testGen.reset()\n",
        "predIdxs = model.predict(x=testGen, steps=(totalTest // BS) + 1)\n",
        "\n",
        "# for each image in the testing set we need to find the index of the\n",
        "# label with corresponding largest predicted probability\n",
        "predIdxs = np.argmax(predIdxs, axis=1)\n",
        "\n",
        "# show a nicely formatted classification report\n",
        "print(classification_report(testGen.classes, predIdxs,\n",
        "\ttarget_names=testGen.class_indices.keys()))"
      ],
      "execution_count": 17,
      "outputs": [
        {
          "output_type": "stream",
          "text": [
            "[INFO] evaluating network...\n",
            "              precision    recall  f1-score   support\n",
            "\n",
            " Parasitized       0.98      0.96      0.97      2786\n",
            "  Uninfected       0.96      0.98      0.97      2726\n",
            "\n",
            "    accuracy                           0.97      5512\n",
            "   macro avg       0.97      0.97      0.97      5512\n",
            "weighted avg       0.97      0.97      0.97      5512\n",
            "\n"
          ],
          "name": "stdout"
        }
      ]
    },
    {
      "cell_type": "code",
      "metadata": {
        "id": "sHTOjF6hvsk2",
        "colab": {
          "base_uri": "https://localhost:8080/",
          "height": 299
        },
        "outputId": "7a02833a-1eaa-4929-b6c6-ddad2e1ac88b"
      },
      "source": [
        "# plot the training loss and accuracy\n",
        "N = NUM_EPOCHS\n",
        "plt.style.use(\"ggplot\")\n",
        "plt.figure()\n",
        "plt.plot(np.arange(0, N), H.history[\"loss\"], label=\"train_loss\")\n",
        "plt.plot(np.arange(0, N), H.history[\"val_loss\"], label=\"val_loss\")\n",
        "plt.plot(np.arange(0, N), H.history[\"accuracy\"], label=\"train_acc\")\n",
        "plt.plot(np.arange(0, N), H.history[\"val_accuracy\"], label=\"val_acc\")\n",
        "plt.title(\"Training Loss and Accuracy on Dataset\")\n",
        "plt.xlabel(\"Epoch #\")\n",
        "plt.ylabel(\"Loss/Accuracy\")\n",
        "plt.legend(loc=\"lower left\")\n",
        "plt.savefig(args[\"plot\"])\n",
        "plt.show()"
      ],
      "execution_count": 18,
      "outputs": [
        {
          "output_type": "display_data",
          "data": {
            "image/png": "[encoded data removed]",
            "text/plain": [
              "<Figure size 432x288 with 1 Axes>"
            ]
          },
          "metadata": {
            "tags": []
          }
        }
      ]
    }
  ]
}